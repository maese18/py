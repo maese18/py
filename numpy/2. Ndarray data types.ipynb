{
 "cells": [
  {
   "cell_type": "markdown",
   "metadata": {
    "collapsed": true
   },
   "source": [
    "## Ndarray Data Types\n",
    "Ndarrays can be constructed with all Python data types or with NumPy data types.\n",
    "\n",
    "When constructing an Ndarray the option dtype can be set."
   ]
  },
  {
   "cell_type": "markdown",
   "metadata": {},
   "source": [
    "| dtype option | Description |\n",
    "| ------------ |-------------|\n",
    "| str          | String      |\n",
    "| int          | Integer     |\n",
    "| float        | Floating Point |\n",
    "\n",
    "Numpy specific data types need to be defined in the form of np.[data type], e.g. like so\n",
    "\n",
    "| dtype option | Description |\n",
    "| ------------ |-------------|\n",
    "| np.int16     | Integer (-32768 to 32767)\n",
    "| ...          | ..\n",
    "\n",
    "A list of all numpy specific data types can be found here: https://www.numpy.org/devdocs/user/basics.types.html"
   ]
  }
 ],
 "metadata": {
  "kernelspec": {
   "display_name": "Python 3",
   "language": "python",
   "name": "python3"
  },
  "language_info": {
   "codemirror_mode": {
    "name": "ipython",
    "version": 3
   },
   "file_extension": ".py",
   "mimetype": "text/x-python",
   "name": "python",
   "nbconvert_exporter": "python",
   "pygments_lexer": "ipython3",
   "version": "3.7.0"
  }
 },
 "nbformat": 4,
 "nbformat_minor": 1
}
