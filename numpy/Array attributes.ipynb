{
 "cells": [
  {
   "cell_type": "markdown",
   "metadata": {
    "collapsed": true
   },
   "source": [
    "# Array Inspection\n",
    "NdArrays can be inspected in various ways."
   ]
  },
  {
   "cell_type": "code",
   "execution_count": 12,
   "metadata": {},
   "outputs": [],
   "source": [
    "import numpy as np"
   ]
  },
  {
   "cell_type": "markdown",
   "metadata": {},
   "source": [
    "## Shape\n",
    "\n",
    "*Syntax:*\n",
    "\n",
    ">```python\n",
    "array.shape\n",
    "```\n",
    "\n",
    "*Explanation:*\n",
    ">This array attribute returns a tuple consisting of array dimensions. It can also be used to resize the array.\n",
    "\n",
    "*Example:*\n",
    ">```python\n",
    "np.zeros(2,4,3).shape\n",
    "```"
   ]
  }
 ],
 "metadata": {
  "kernelspec": {
   "display_name": "Python 3",
   "language": "python",
   "name": "python3"
  },
  "language_info": {
   "codemirror_mode": {
    "name": "ipython",
    "version": 3
   },
   "file_extension": ".py",
   "mimetype": "text/x-python",
   "name": "python",
   "nbconvert_exporter": "python",
   "pygments_lexer": "ipython3",
   "version": "3.7.0"
  }
 },
 "nbformat": 4,
 "nbformat_minor": 1
}
