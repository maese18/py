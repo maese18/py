{
 "cells": [
  {
   "cell_type": "markdown",
   "metadata": {},
   "source": [
    "# Create arrays with initial placeholders\n",
    "Shows how to create arrays using initial values or random values"
   ]
  },
  {
   "cell_type": "code",
   "execution_count": 2,
   "metadata": {},
   "outputs": [],
   "source": [
    "import numpy as np"
   ]
  },
  {
   "cell_type": "markdown",
   "metadata": {},
   "source": [
    "## Fill with specific values\n",
    "### a. Fill with zeros\n",
    "*Syntax:*\n",
    "\n",
    ">```python\n",
    "np.zeros(shape,dtype,order)\n",
    "```\n",
    "\n",
    "*Explanation:*\n",
    ">Returns a new array of specified size, filled with zeros.\n",
    "\n",
    "*Parameters:* \n",
    ">- shape size of array as int or list, eg. [3,2,3] for a 3 dimensional array with dimension size of 3,2 and 3\n",
    "- dtype type of array items\n",
    "- order 'C' for C-style row-major array, 'F' for FORTRAN style column-major array\n",
    "\n",
    "*Example:*\n",
    ">```python\n",
    "np.zeros(2,4,3)\n",
    "```"
   ]
  },
  {
   "cell_type": "code",
   "execution_count": 3,
   "metadata": {},
   "outputs": [
    {
     "name": "stdout",
     "output_type": "stream",
     "text": [
      "[[[0 0 0 0]\n",
      "  [0 0 0 0]\n",
      "  [0 0 0 0]]\n",
      "\n",
      " [[0 0 0 0]\n",
      "  [0 0 0 0]\n",
      "  [0 0 0 0]]]\n"
     ]
    }
   ],
   "source": [
    "print (np.zeros([2,3,4],dtype=np.int16,order='C'))"
   ]
  },
  {
   "cell_type": "markdown",
   "metadata": {},
   "source": [
    "### b. Fill with ones\n",
    "\n",
    "*Syntax:*\n",
    "\n",
    ">```python\n",
    "np.ones(shape,dtype,order) \n",
    "```\n",
    "\n",
    "*Explanation:* \n",
    ">Returns a new array of specified size, filled with zeros.\n",
    "\n",
    "*Parameters:* \n",
    ">- **shape:** size of array as int or list, eg. [3,2,3] for a 3 dimensional array with dimension size of 3,2 and 3\n",
    "- **dtype:** type of array items\n",
    "- **order:** 'C' for C-style row-major array, 'F' for FORTRAN style column-major array\n",
    "\n",
    "*Example:*\n",
    ">```python\n",
    "np.ones(2,4,3)\n",
    "```"
   ]
  },
  {
   "cell_type": "code",
   "execution_count": 30,
   "metadata": {},
   "outputs": [
    {
     "name": "stdout",
     "output_type": "stream",
     "text": [
      "[[[1. 1. 1.]\n",
      "  [1. 1. 1.]\n",
      "  [1. 1. 1.]\n",
      "  [1. 1. 1.]]\n",
      "\n",
      " [[1. 1. 1.]\n",
      "  [1. 1. 1.]\n",
      "  [1. 1. 1.]\n",
      "  [1. 1. 1.]]]\n"
     ]
    }
   ],
   "source": [
    "a=np.ones([2,4,3])\n",
    "print(a)"
   ]
  },
  {
   "cell_type": "markdown",
   "metadata": {},
   "source": [
    "The first dimension shows up in the two blocks, the second is the number of rows in each block and the third is the number of columns."
   ]
  }
 ],
 "metadata": {
  "kernelspec": {
   "display_name": "Python 3",
   "language": "python",
   "name": "python3"
  },
  "language_info": {
   "codemirror_mode": {
    "name": "ipython",
    "version": 3
   },
   "file_extension": ".py",
   "mimetype": "text/x-python",
   "name": "python",
   "nbconvert_exporter": "python",
   "pygments_lexer": "ipython3",
   "version": "3.7.0"
  }
 },
 "nbformat": 4,
 "nbformat_minor": 2
}
