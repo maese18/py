{
 "cells": [
  {
   "cell_type": "code",
   "execution_count": 2,
   "metadata": {},
   "outputs": [],
   "source": [
    "import numpy as np"
   ]
  },
  {
   "cell_type": "markdown",
   "metadata": {},
   "source": [
    "## Create numpy arrays\n",
    "Arrays can be created in different ways, which we will show in the following code examples."
   ]
  },
  {
   "cell_type": "code",
   "execution_count": null,
   "metadata": {},
   "outputs": [
    {
     "name": "stdout",
     "output_type": "stream",
     "text": [
      "[ 7  2  9 10]\n",
      "(4,)\n"
     ]
    }
   ],
   "source": [
    "# One dimensional array\n",
    "one_dim_array=np.array([7,2,9,10])\n",
    "print (one_dim_array)\n",
    "print (one_dim_array.shape)"
   ]
  },
  {
   "cell_type": "code",
   "execution_count": 3,
   "metadata": {},
   "outputs": [
    {
     "name": "stdout",
     "output_type": "stream",
     "text": [
      "Array:\n",
      "[[5.2 3.  4.5]\n",
      " [9.1 0.1 0.3]]\n",
      "Shape:  (2, 3)\n",
      "Item at [1,0] =  9.1\n"
     ]
    }
   ],
   "source": [
    "# Two dimensional array\n",
    "two_dim_array=np.array([(5.2,3.0,4.5),(9.1,0.1,0.3)])\n",
    "print ('Array:')\n",
    "print (two_dim_array)\n",
    "print ('Shape: ',two_dim_array.shape)\n",
    "print ('Item at [1,0] = ',two_dim_array[1][0])"
   ]
  },
  {
   "cell_type": "code",
   "execution_count": 35,
   "metadata": {},
   "outputs": [
    {
     "name": "stdout",
     "output_type": "stream",
     "text": [
      "Array:\n",
      "[[[  0.   0.   0.   0.   0.]\n",
      "  [  0.   0.   0.   0.   0.]\n",
      "  [  0.   0. 123.   0.   0.]\n",
      "  [  0.   0.   0.   0.   0.]]\n",
      "\n",
      " [[  0.   0.   0.   0.   0.]\n",
      "  [  0.   0.   0.   0.   0.]\n",
      "  [  0.   0.   0.   0.   0.]\n",
      "  [  0.   0.   0.   0. 145.]]\n",
      "\n",
      " [[  0.   0.   0.   0.   0.]\n",
      "  [  0.   0.   0.   0.   0.]\n",
      "  [  0.   0.   0.   0.   0.]\n",
      "  [  0.   0.   0.   0.   0.]]]\n",
      "Shape:  (3, 4, 5)\n",
      "Item at [0,0,2] =  123.0\n"
     ]
    }
   ],
   "source": [
    "# Three dimensional array\n",
    "\n",
    "three_dim_array= np.zeros((3,4,5))\n",
    "three_dim_array[0][2][2]=123\n",
    "three_dim_array[1][3][4]=145\n",
    "print ('Array:')\n",
    "print (three_dim_array)\n",
    "print ('Shape: ',three_dim_array.shape)\n",
    "\n",
    "print ('Item at [0,2,2] = ',three_dim_array[0][2][2])"
   ]
  }
 ],
 "metadata": {
  "kernelspec": {
   "display_name": "Python 3",
   "language": "python",
   "name": "python3"
  },
  "language_info": {
   "codemirror_mode": {
    "name": "ipython",
    "version": 3
   },
   "file_extension": ".py",
   "mimetype": "text/x-python",
   "name": "python",
   "nbconvert_exporter": "python",
   "pygments_lexer": "ipython3",
   "version": "3.7.0"
  }
 },
 "nbformat": 4,
 "nbformat_minor": 1
}
