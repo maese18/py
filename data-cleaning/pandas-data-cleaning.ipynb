{
 "cells": [
  {
   "cell_type": "code",
   "execution_count": null,
   "metadata": {
    "collapsed": true
   },
   "outputs": [],
   "source": [
    "# This example shows how data cleaning can be done with pandas library\n",
    "# Source: https://towardsdatascience.com/a-complete-machine-learning-walk-through-in-python-part-one-c62152f39420, 2018-12-23\n",
    "# Github: https://github.com/WillKoehrsen/machine-learning-project-walkthrough\n",
    "\n",
    "import pandas as pd\n",
    "import numpy as np\n",
    "\n",
    "# No warnings about setting value on copy of slice\n",
    "pd.options.mode.chained_assignment = None\n",
    "\n",
    "# Display up to 60 columns of a dataframe\n",
    "pd.set_option('display.max_columns', 60)\n",
    "\n",
    "# Read in data into a dataframe\n",
    "data = pd.read_csv('data/20180605-871m-data-1000rows.csv')\n",
    "# Display top of dataframe\n",
    "data.head()"
   ]
  }
 ],
 "metadata": {
  "kernelspec": {
   "display_name": "Python 2",
   "language": "python",
   "name": "python2"
  },
  "language_info": {
   "codemirror_mode": {
    "name": "ipython",
    "version": 2
   },
   "file_extension": ".py",
   "mimetype": "text/x-python",
   "name": "python",
   "nbconvert_exporter": "python",
   "pygments_lexer": "ipython2",
   "version": "2.7.6"
  }
 },
 "nbformat": 4,
 "nbformat_minor": 0
}
